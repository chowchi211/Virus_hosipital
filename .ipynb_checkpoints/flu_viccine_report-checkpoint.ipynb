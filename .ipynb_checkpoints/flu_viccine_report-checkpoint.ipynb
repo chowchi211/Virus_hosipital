{
 "cells": [
  {
   "cell_type": "code",
   "execution_count": null,
   "metadata": {},
   "outputs": [],
   "source": [
    "# -*- coding: utf-8 -*-\n",
    "\n",
    "import requests\n",
    "import csv\n",
    "import pandas as pd\n",
    "from collections import Counter\n",
    "\n",
    "\n",
    "url = 'https://od.cdc.gov.tw/emerging/2014-2016-number-of-locations-that-distribute-influenza-vaccine.csv'\n",
    "data = pd.read_csv(url, encoding='utf-8')\n",
    "# print(type(data)) 檢察資料格式\n",
    "data.to_csv('virus.csv') # 把資料存成 csv 檔\n",
    "# print(data.head()) \n",
    "\n",
    "whole = []\n",
    "\n",
    "for city in data['縣市別']:\n",
    "    whole.append(city)\n",
    "c = Counter(whole)\n",
    "print(c.most_common(5))\n",
    "\n"
   ]
  },
  {
   "cell_type": "code",
   "execution_count": 4,
   "metadata": {},
   "outputs": [
    {
     "data": {
      "text/plain": [
       "<BarContainer object of 5 artists>"
      ]
     },
     "execution_count": 4,
     "metadata": {},
     "output_type": "execute_result"
    },
    {
     "data": {
      "image/png": "[encoded data removed]",
      "text/plain": [
       "<Figure size 432x288 with 1 Axes>"
      ]
     },
     "metadata": {},
     "output_type": "display_data"
    }
   ],
   "source": [
    "%matplotlib inline\n",
    "\n",
    "import matplotlib.pyplot as plt\n",
    "import pandas as pd\n",
    "\n",
    "\n",
    "x= ['KSC','NTPC','TCC','TNC','TPC']\n",
    "y= [1480, 1394, 1105, 1028, 846]\n",
    "plt.bar(x,y)\n"
   ]
  },
  {
   "cell_type": "code",
   "execution_count": 8,
   "metadata": {},
   "outputs": [
    {
     "name": "stdout",
     "output_type": "stream",
     "text": [
      "Counter({2016: 3737, 2014: 3516, 2015: 3465})\n"
     ]
    }
   ],
   "source": [
    "# -*- coding: utf-8 -*-\n",
    "\n",
    "import requests\n",
    "import csv\n",
    "import pandas as pd\n",
    "from collections import Counter\n",
    "\n",
    "\n",
    "url = 'https://od.cdc.gov.tw/emerging/2014-2016-number-of-locations-that-distribute-influenza-vaccine.csv'\n",
    "data = pd.read_csv(url, encoding='utf-8')\n",
    "# print(type(data)) 檢察資料格式\n",
    "data.to_csv('virus.csv') # 把資料存成 csv 檔\n",
    "# print(data.head()) \n",
    "\n",
    "time = []\n",
    "\n",
    "for y in data['年度']:\n",
    "    time.append(y)\n",
    "d = Counter(time)\n",
    "print(d)"
   ]
  },
  {
   "cell_type": "code",
   "execution_count": 12,
   "metadata": {},
   "outputs": [
    {
     "data": {
      "text/plain": [
       "Text(0.5,0,'year')"
      ]
     },
     "execution_count": 12,
     "metadata": {},
     "output_type": "execute_result"
    },
    {
     "data": {
      "image/png": "[encoded data removed]",
      "text/plain": [
       "<Figure size 432x288 with 1 Axes>"
      ]
     },
     "metadata": {},
     "output_type": "display_data"
    }
   ],
   "source": [
    "%matplotlib inline\n",
    "\n",
    "import matplotlib.pyplot as plt\n",
    "import pandas as pd\n",
    "\n",
    "\n",
    "plt.plot( ['2014','2015','2016'], [3516, 3465, 3737])\n",
    "plt.ylabel('hospital numbers')\n",
    "plt.xlabel('year')\n"
   ]
  },
  {
   "cell_type": "code",
   "execution_count": 26,
   "metadata": {},
   "outputs": [
    {
     "name": "stdout",
     "output_type": "stream",
     "text": [
      "     年度  縣市別  序號    醫療院所名稱     醫療院所十碼代碼  郵遞區號              地    址\n",
      "0  2014  臺北市   1      北電診所   350102A607   106   臺北市大安區和平東路一段76號1樓\n",
      "1  2014  臺北市   2      哲民診所  3501107047    104    臺北巿中山區龍江路356巷24號\n",
      "2  2014  臺北市   3  夏爾耳鼻喉科診所   350102A107   106  臺北市大安區信義路四段265巷54號\n",
      "3  2014  臺北市   4     陳育鵬診所   3501173390   110       臺北市信義區松山路568號\n",
      "4  2014  臺北市   5  禾馨新生婦幼診所   350102B364   106      臺北市大安區新生南路３段２號\n",
      "Counter({'屏東縣': 408, '花蓮縣': 131, '臺東縣': 72})\n",
      "Counter({'新北市': 1394, '臺北市': 846, '基隆市': 135})\n"
     ]
    }
   ],
   "source": [
    "# -*- coding: utf-8 -*-\n",
    "\n",
    "import requests\n",
    "import csv\n",
    "import pandas as pd\n",
    "from collections import Counter\n",
    "\n",
    "\n",
    "url = 'https://od.cdc.gov.tw/emerging/2014-2016-number-of-locations-that-distribute-influenza-vaccine.csv'\n",
    "data = pd.read_csv(url, encoding='utf-8')\n",
    "# print(type(data)) 檢察資料格式\n",
    "data.to_csv('virus.csv') # 把資料存成 csv 檔\n",
    "print(data.head()) \n",
    "\n",
    "east = []\n",
    "\n",
    "for ep in data['縣市別']:\n",
    "    if ep == '花蓮縣' or ep == '臺東縣' or ep == '屏東縣' :\n",
    "        east.append(ep)\n",
    "print(Counter(east))\n",
    "\n",
    "north = []\n",
    "\n",
    "for np in data['縣市別']:\n",
    "    if np == '臺北市' or np == '新北市' or np == '基隆市' :\n",
    "        north.append(np)\n",
    "print(Counter(north))\n"
   ]
  },
  {
   "cell_type": "code",
   "execution_count": null,
   "metadata": {},
   "outputs": [],
   "source": []
  },
  {
   "cell_type": "code",
   "execution_count": null,
   "metadata": {},
   "outputs": [],
   "source": []
  }
 ],
 "metadata": {
  "kernelspec": {
   "display_name": "Python 3",
   "language": "python",
   "name": "python3"
  },
  "language_info": {
   "codemirror_mode": {
    "name": "ipython",
    "version": 3
   },
   "file_extension": ".py",
   "mimetype": "text/x-python",
   "name": "python",
   "nbconvert_exporter": "python",
   "pygments_lexer": "ipython3",
   "version": "3.6.5"
  }
 },
 "nbformat": 4,
 "nbformat_minor": 2
}
